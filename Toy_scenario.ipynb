{
  "nbformat": 4,
  "nbformat_minor": 0,
  "metadata": {
    "colab": {
      "name": "Toy_scenario.ipynb",
      "provenance": [],
      "collapsed_sections": []
    },
    "kernelspec": {
      "name": "python3",
      "display_name": "Python 3"
    }
  },
  "cells": [
    {
      "cell_type": "markdown",
      "metadata": {
        "id": "RCIP_VS8uNrH",
        "colab_type": "text"
      },
      "source": [
        "# **Installing Carl package and changing Matplotlib version**\n",
        "\n",
        "\n",
        "\n",
        "\n",
        "\n"
      ]
    },
    {
      "cell_type": "code",
      "metadata": {
        "id": "eT1dT3q8tyFC",
        "colab_type": "code",
        "outputId": "7180d754-c219-42ff-dccc-2623a084b508",
        "colab": {
          "base_uri": "https://localhost:8080/",
          "height": 105
        }
      },
      "source": [
        "!git clone https://github.com/diana-hep/carl.git /usr/local/lib/python3.6/dist-packages/carl/"
      ],
      "execution_count": 1,
      "outputs": [
        {
          "output_type": "stream",
          "text": [
            "Cloning into '/usr/local/lib/python3.6/dist-packages/carl'...\n",
            "remote: Enumerating objects: 1974, done.\u001b[K\n",
            "remote: Total 1974 (delta 0), reused 0 (delta 0), pack-reused 1974\u001b[K\n",
            "Receiving objects: 100% (1974/1974), 6.98 MiB | 25.60 MiB/s, done.\n",
            "Resolving deltas: 100% (1228/1228), done.\n"
          ],
          "name": "stdout"
        }
      ]
    },
    {
      "cell_type": "code",
      "metadata": {
        "id": "FxsTwN2v2DQa",
        "colab_type": "code",
        "outputId": "40c19f72-cc2a-43c0-9966-3f4ac4af1029",
        "colab": {
          "base_uri": "https://localhost:8080/",
          "height": 597
        }
      },
      "source": [
        "!pip3 uninstall matplotlib\n",
        "!pip3 install matplotlib==2.2.3"
      ],
      "execution_count": 2,
      "outputs": [
        {
          "output_type": "stream",
          "text": [
            "Uninstalling matplotlib-3.2.1:\n",
            "  Would remove:\n",
            "    /usr/local/lib/python3.6/dist-packages/matplotlib-3.2.1-py3.6-nspkg.pth\n",
            "    /usr/local/lib/python3.6/dist-packages/matplotlib-3.2.1.dist-info/*\n",
            "    /usr/local/lib/python3.6/dist-packages/matplotlib/*\n",
            "    /usr/local/lib/python3.6/dist-packages/mpl_toolkits/axes_grid/*\n",
            "    /usr/local/lib/python3.6/dist-packages/mpl_toolkits/axes_grid1/*\n",
            "    /usr/local/lib/python3.6/dist-packages/mpl_toolkits/axisartist/*\n",
            "    /usr/local/lib/python3.6/dist-packages/mpl_toolkits/mplot3d/*\n",
            "    /usr/local/lib/python3.6/dist-packages/mpl_toolkits/tests/*\n",
            "    /usr/local/lib/python3.6/dist-packages/pylab.py\n",
            "Proceed (y/n)? y\n",
            "  Successfully uninstalled matplotlib-3.2.1\n",
            "Collecting matplotlib==2.2.3\n",
            "\u001b[?25l  Downloading https://files.pythonhosted.org/packages/9e/59/f235ab21bbe7b7c6570c4abf17ffb893071f4fa3b9cf557b09b60359ad9a/matplotlib-2.2.3-cp36-cp36m-manylinux1_x86_64.whl (12.6MB)\n",
            "\u001b[K     |████████████████████████████████| 12.6MB 2.8MB/s \n",
            "\u001b[?25hRequirement already satisfied: six>=1.10 in /usr/local/lib/python3.6/dist-packages (from matplotlib==2.2.3) (1.12.0)\n",
            "Requirement already satisfied: numpy>=1.7.1 in /usr/local/lib/python3.6/dist-packages (from matplotlib==2.2.3) (1.18.4)\n",
            "Requirement already satisfied: cycler>=0.10 in /usr/local/lib/python3.6/dist-packages (from matplotlib==2.2.3) (0.10.0)\n",
            "Requirement already satisfied: python-dateutil>=2.1 in /usr/local/lib/python3.6/dist-packages (from matplotlib==2.2.3) (2.8.1)\n",
            "Requirement already satisfied: kiwisolver>=1.0.1 in /usr/local/lib/python3.6/dist-packages (from matplotlib==2.2.3) (1.2.0)\n",
            "Requirement already satisfied: pyparsing!=2.0.4,!=2.1.2,!=2.1.6,>=2.0.1 in /usr/local/lib/python3.6/dist-packages (from matplotlib==2.2.3) (2.4.7)\n",
            "Requirement already satisfied: pytz in /usr/local/lib/python3.6/dist-packages (from matplotlib==2.2.3) (2018.9)\n",
            "\u001b[31mERROR: plotnine 0.6.0 has requirement matplotlib>=3.1.1, but you'll have matplotlib 2.2.3 which is incompatible.\u001b[0m\n",
            "\u001b[31mERROR: mizani 0.6.0 has requirement matplotlib>=3.1.1, but you'll have matplotlib 2.2.3 which is incompatible.\u001b[0m\n",
            "\u001b[31mERROR: albumentations 0.1.12 has requirement imgaug<0.2.7,>=0.2.5, but you'll have imgaug 0.2.9 which is incompatible.\u001b[0m\n",
            "Installing collected packages: matplotlib\n",
            "Successfully installed matplotlib-2.2.3\n"
          ],
          "name": "stdout"
        },
        {
          "output_type": "display_data",
          "data": {
            "application/vnd.colab-display-data+json": {
              "pip_warning": {
                "packages": [
                  "matplotlib",
                  "mpl_toolkits"
                ]
              }
            }
          },
          "metadata": {
            "tags": []
          }
        }
      ]
    },
    {
      "cell_type": "markdown",
      "metadata": {
        "id": "nde5SP63iY3B",
        "colab_type": "text"
      },
      "source": [
        "!!!!!!!!!!!!      Version of Matplotlib has to be 2.2.3    !!!!!!!!!!!!    \n"
      ]
    },
    {
      "cell_type": "code",
      "metadata": {
        "id": "ctt8bvA0iW6_",
        "colab_type": "code",
        "outputId": "bccc2d9a-d72c-4048-891b-337b400501cb",
        "colab": {
          "base_uri": "https://localhost:8080/",
          "height": 35
        }
      },
      "source": [
        "import matplotlib\n",
        "print('matplotlib: {}'.format(matplotlib.__version__))"
      ],
      "execution_count": 1,
      "outputs": [
        {
          "output_type": "stream",
          "text": [
            "matplotlib: 2.2.3\n"
          ],
          "name": "stdout"
        }
      ]
    },
    {
      "cell_type": "markdown",
      "metadata": {
        "id": "e9Suqt31uSsL",
        "colab_type": "text"
      },
      "source": [
        "Import des différentes librairies"
      ]
    },
    {
      "cell_type": "code",
      "metadata": {
        "id": "bAXcgyb1sm8d",
        "colab_type": "code",
        "colab": {}
      },
      "source": [
        "import sys\n",
        "import numpy.random as npr\n",
        "import tensorflow as tf\n",
        "import torch\n",
        "import torch.nn as nn\n",
        "import torch.nn.functional as F\n",
        "import matplotlib.pyplot as plt\n",
        "plt.rcParams[\"figure.figsize\"] = (6,6)\n",
        "plt.rcParams[\"font.size\"] = 16.0\n",
        "\n",
        "import numpy as np\n",
        "from numpy.testing import assert_array_equal\n",
        "\n",
        "from carl.carl.distributions import Mixture, MultivariateNormal, Uniform, Normal\n",
        "import matplotlib as mpl\n",
        "import matplotlib.pyplot as plt\n",
        "from matplotlib.mlab import griddata\n",
        "\n",
        "np.random.seed(1)"
      ],
      "execution_count": 0,
      "outputs": []
    },
    {
      "cell_type": "markdown",
      "metadata": {
        "id": "yjptnF1cuYEt",
        "colab_type": "text"
      },
      "source": [
        "# **Generating samples X,Y,S**"
      ]
    },
    {
      "cell_type": "code",
      "metadata": {
        "id": "XtsvS7MisYgp",
        "colab_type": "code",
        "colab": {
          "base_uri": "https://localhost:8080/",
          "height": 35
        },
        "outputId": "48ffc869-f7e4-47b6-f005-e7d1e654929c"
      },
      "source": [
        "p0 = MultivariateNormal(mu=np.array([0., 0.]), sigma=np.array([[1., -0.5], [-0.5, 1.]]))\n",
        "p1 = MultivariateNormal(mu=np.array([1., 1.]), sigma=np.eye(2))\n",
        "ps = Normal(mu=0.0, sigma=1.0)\n",
        "\n",
        "n_samples = 125000\n",
        "\n",
        "X0 = p0.rvs(n_samples // 2, random_state = 1)\n",
        "X1 = p1.rvs(n_samples // 2, random_state = 1)\n",
        "s = ps.rvs(n_samples, random_state = 1).ravel()\n",
        "X1[:, 1] += 3*np.sin(s[n_samples // 2:])"
      ],
      "execution_count": 3,
      "outputs": [
        {
          "output_type": "stream",
          "text": [
            "WARNING (theano.tensor.blas): We did not find a dynamic library in the library_dir of the library we use for blas. If you use ATLAS, make sure to compile it with dynamics library.\n"
          ],
          "name": "stderr"
        }
      ]
    },
    {
      "cell_type": "code",
      "metadata": {
        "id": "cT9HeOIPsd8Y",
        "colab_type": "code",
        "outputId": "675c1087-6c47-48a8-d6fe-7a212d15b288",
        "colab": {
          "base_uri": "https://localhost:8080/",
          "height": 400
        }
      },
      "source": [
        "X = np.vstack([X0, X1])\n",
        "y = np.zeros(n_samples)\n",
        "y[n_samples // 2:] = 1\n",
        "\n",
        "\n",
        "plt.title(\"$X$\")\n",
        "plt.scatter(X[y==0, 0], X[y==0, 1], c=\"r\", marker=\"o\", edgecolors=\"none\")\n",
        "plt.scatter(X[y==1, 0], X[y==1, 1], c=\"b\", marker=\"o\", edgecolors=\"none\")\n",
        "plt.xlim(-4, 4)\n",
        "plt.ylim(-4, 4)\n",
        "plt.show()"
      ],
      "execution_count": 4,
      "outputs": [
        {
          "output_type": "display_data",
          "data": {
            "image/png": "[encoded data removed]",
            "text/plain": [
              "<Figure size 432x432 with 1 Axes>"
            ]
          },
          "metadata": {
            "tags": [],
            "needs_background": "light"
          }
        }
      ]
    },
    {
      "cell_type": "code",
      "metadata": {
        "id": "mbi9v60jsk4F",
        "colab_type": "code",
        "colab": {}
      },
      "source": [
        "from sklearn.model_selection import train_test_split\n",
        "\n",
        "X_train, X_test, y_train, y_test, sensitive, sensitivet = train_test_split(X, y, s, test_size=50000, random_state = 1)\n"
      ],
      "execution_count": 0,
      "outputs": []
    },
    {
      "cell_type": "markdown",
      "metadata": {
        "id": "jZLEoabFui3d",
        "colab_type": "text"
      },
      "source": [
        "# **Model training**"
      ]
    },
    {
      "cell_type": "code",
      "metadata": {
        "id": "qXfIUeHttqpL",
        "colab_type": "code",
        "colab": {}
      },
      "source": [
        "H = 8\n",
        "H2 = 4\n",
        "\n",
        "class model_Net_F(nn.Module):\n",
        "    def __init__(self):\n",
        "        super(model_Net_F, self).__init__()\n",
        "        self.fc1 = nn.Linear(2, 64)\n",
        "        self.fc2 = nn.Linear(64, 64)\n",
        "        self.fc3 = nn.Linear(64, 1)\n",
        "        self.bn1 = nn.BatchNorm1d(1)\n",
        "\n",
        "    def forward(self, x):\n",
        "        h1 = torch.relu(self.fc1(x))\n",
        "        h2 = torch.relu(self.fc2(h1))\n",
        "        h3 = self.fc3(h2)\n",
        "        return h3    \n",
        "\n",
        "class model_Net_G(nn.Module):\n",
        "    def __init__(self):\n",
        "        super(model_Net_G, self).__init__()\n",
        "        self.fc1 = nn.Linear(1, 64)\n",
        "        self.fc2 = nn.Linear(64, 64)\n",
        "        self.fc3 = nn.Linear(64, 1)\n",
        "        self.bn1 = nn.BatchNorm1d(1)\n",
        "\n",
        "    def forward(self, x):\n",
        "        h1 = torch.relu(self.fc1(x))\n",
        "        h2 = torch.relu(self.fc2(h1))\n",
        "        h3 = self.fc3(h2)\n",
        "        return h3\n",
        "\n",
        "torch.manual_seed(1)\n",
        "mF = model_Net_F()\n",
        "\n",
        "torch.manual_seed(1)\n",
        "mG = model_Net_G()\n",
        "\n",
        "optimizer_F = torch.optim.Adam(mF.parameters(), lr=0.0005)\n",
        "optimizer_G = torch.optim.Adam(mG.parameters(), lr=0.0005)\n",
        "import argparse\n",
        "import torch\n",
        "import torch.utils.data\n",
        "from torch import nn, optim\n",
        "from torch.nn import functional as F\n",
        "from torchvision import datasets, transforms\n",
        "from torchvision.utils import save_image\n",
        "from torch.autograd import Variable\n",
        "\n",
        "from sklearn.utils import shuffle\n",
        "from torch.autograd import Variable\n",
        "import math\n",
        "class NN(nn.Module):    \n",
        "    def __init__(self):\n",
        "        super(NN, self).__init__()\n",
        "        self.fc1 = nn.Linear(2, 16)\n",
        "        self.fc2 = nn.Linear(16, 8)\n",
        "        self.fc3 = nn.Linear(8, 4)\n",
        "        self.fc4 = nn.Linear(4, 1)        \n",
        "    def forward(self, x):\n",
        "        h1 = torch.relu(self.fc1(x))\n",
        "        #x = F.dropout(x, p=0.2)\n",
        "        h2 = torch.relu(self.fc2(h1))\n",
        "        #x = F.dropout(x, p=0.2)\n",
        "        h3 = torch.relu(self.fc3(h2))\n",
        "        #x = F.dropout(x, p=0.2)\n",
        "        h4 = torch.sigmoid(self.fc4(h3))\n",
        "        return h4\n",
        "\n",
        "class Encoder(nn.Module):    \n",
        "    def __init__(self):\n",
        "        super(Encoder, self).__init__()\n",
        "        self.fc1 = nn.Linear(2, 16)\n",
        "        self.fc2 = nn.Linear(16, 8)\n",
        "        self.fc3 = nn.Linear(8, 2)\n",
        "    def forward(self, x):\n",
        "        h1 = torch.relu(self.fc1(x))\n",
        "        #x = F.dropout(x, p=0.2)\n",
        "        h2 = torch.relu(self.fc2(h1))\n",
        "        #x = F.dropout(x, p=0.2)\n",
        "        h3 = self.fc3(h2)\n",
        "        #x = F.dropout(x, p=0.2)\n",
        "        return h3\n",
        "\n",
        "    \n",
        "\n",
        "\n",
        "batch_size = 2048\n",
        "num_epochs = 200\n",
        "learning_rate = 0.0001\n",
        "batch_no = len(X_train) // batch_size\n",
        "\n",
        "torch.manual_seed(1)\n",
        "model = NN()\n",
        "\n",
        "criterion = torch.nn.BCEWithLogitsLoss(reduction='mean')\n",
        "optimizer = torch.optim.Adam(model.parameters(), lr=learning_rate)\n",
        "#X_train, X_test, y_train, y_test, sensitive, sensitivet = DATA_TRAIN_TEST(1,'sex',\"income-per-year\",['income-per-year','race','race-sex','sex'])\n",
        "\n",
        "torch.manual_seed(1)\n",
        "m_encodeder = Encoder()\n",
        "\n",
        "optimizer_enc = torch.optim.Adam(m_encodeder.parameters(), lr=learning_rate)\n"
      ],
      "execution_count": 0,
      "outputs": []
    },
    {
      "cell_type": "code",
      "metadata": {
        "id": "4UGIAVJQtvRG",
        "colab_type": "code",
        "outputId": "c18b920a-587d-40eb-ce11-654325dca4f0",
        "colab": {
          "base_uri": "https://localhost:8080/",
          "height": 1000
        }
      },
      "source": [
        "lambda_ = 13\n",
        "\n",
        "for epoch in range(num_epochs):\n",
        "\n",
        "    x_train, ytrain, strain = shuffle(X_train,y_train,sensitive, random_state = epoch)\n",
        "    # Mini batch learning\n",
        "    epsilon=0.0000000000001\n",
        "    \n",
        "    # Mini batch learning\n",
        "    for i in range(batch_no):\n",
        "        start = i * batch_size\n",
        "        end = start + batch_size\n",
        "        x_var = Variable(torch.FloatTensor(x_train[start:end]))\n",
        "        #y_var = Variable(torch.FloatTensor(ytrain[start:end]))\n",
        "        y_var = Variable(torch.FloatTensor(ytrain[start:end])).unsqueeze(1)\n",
        "        s_var = Variable(torch.FloatTensor(strain[start:end])).unsqueeze(1)\n",
        "        Z0 = m_encodeder(x_var).detach()\n",
        "\n",
        "        # Forward + Backward + Optimize\n",
        "        optimizer.zero_grad()\n",
        "        ypred_var = model(Z0)\n",
        "        lossY =criterion(ypred_var, y_var)\n",
        "        lossY.backward()\n",
        "        optimizer.step()\n",
        "\n",
        "        ypred_var0 = ypred_var.detach()\n",
        "        if epoch > 50 :\n",
        "            for k in range(10):\n",
        "                #print(s_var.shape)\n",
        "                optimizer_F.zero_grad()\n",
        "                optimizer_G.zero_grad()\n",
        "                \n",
        "                pred_F  = mF(Z0)\n",
        "                pred_G  = mG(s_var)\n",
        "        \n",
        "                pred_F_norm = (pred_F-torch.mean(pred_F))/torch.sqrt((torch.std(pred_F).pow(2)+epsilon))\n",
        "                pred_G_norm = (pred_G-torch.mean(pred_G))/torch.sqrt((torch.std(pred_G).pow(2)+epsilon))\n",
        "                #£pred_F_norm[torch.isnan(pred_F_norm )] = 0\n",
        "                #pred_G_norm[torch.isnan(pred_G_norm )] = 0\n",
        "        \n",
        "                ret = torch.mean(pred_F_norm*pred_G_norm)\n",
        "                loss = - ret  # maximize\n",
        "        \n",
        "                loss.backward()\n",
        "                #print(loss)\n",
        "                optimizer_F.step()\n",
        "                optimizer_G.step()\n",
        "            \n",
        "        optimizer_enc.zero_grad()\n",
        "        Z = m_encodeder(x_var)\n",
        "        ypred_var = model(Z)\n",
        "\n",
        "        pred_F  = mF(Z)\n",
        "        pred_G  = mG(s_var)\n",
        "        pred_F_norm = (pred_F-torch.mean(pred_F))/torch.sqrt((torch.std(pred_F).pow(2)+epsilon))\n",
        "        pred_G_norm = (pred_G-torch.mean(pred_G))/torch.sqrt((torch.std(pred_G).pow(2)+epsilon))\n",
        "        ret = torch.mean(pred_F_norm*pred_G_norm)\n",
        "        loss =criterion(ypred_var, y_var)+ lambda_*ret\n",
        "        loss.backward()\n",
        "        optimizer_enc.step()\n",
        "        \n",
        "    print('epoch :',epoch,'loss', loss.item())\n",
        "    print('lossY',lossY.item(),' HGR ', ret.item())\n"
      ],
      "execution_count": 36,
      "outputs": [
        {
          "output_type": "stream",
          "text": [
            "epoch : 0 loss 2.9677491188049316\n",
            "lossY 0.7306144833564758  HGR  0.17208829522132874\n",
            "epoch : 1 loss 2.85668683052063\n",
            "lossY 0.713628888130188  HGR  0.1648513674736023\n",
            "epoch : 2 loss 2.376939535140991\n",
            "lossY 0.7343594431877136  HGR  0.12635347247123718\n",
            "epoch : 3 loss 2.2159085273742676\n",
            "lossY 0.7068184614181519  HGR  0.11608459055423737\n",
            "epoch : 4 loss 1.6949915885925293\n",
            "lossY 0.721806526184082  HGR  0.07486142963171005\n",
            "epoch : 5 loss 1.5450119972229004\n",
            "lossY 0.7242547869682312  HGR  0.06313630938529968\n",
            "epoch : 6 loss 1.3837525844573975\n",
            "lossY 0.7190709114074707  HGR  0.051130399107933044\n",
            "epoch : 7 loss 1.6198546886444092\n",
            "lossY 0.7234057188034058  HGR  0.06895869225263596\n",
            "epoch : 8 loss 0.885676920413971\n",
            "lossY 0.724060595035553  HGR  0.012433192692697048\n",
            "epoch : 9 loss 0.5241858959197998\n",
            "lossY 0.7246831059455872  HGR  -0.01542164571583271\n",
            "epoch : 10 loss 0.14832013845443726\n",
            "lossY 0.7302359342575073  HGR  -0.044761352241039276\n",
            "epoch : 11 loss 0.02148747444152832\n",
            "lossY 0.7230035066604614  HGR  -0.05396145209670067\n",
            "epoch : 12 loss 0.30655184388160706\n",
            "lossY 0.714555561542511  HGR  -0.03138372302055359\n",
            "epoch : 13 loss 0.03860938549041748\n",
            "lossY 0.707170307636261  HGR  -0.0514267198741436\n",
            "epoch : 14 loss 0.09180265665054321\n",
            "lossY 0.7150089144706726  HGR  -0.047937631607055664\n",
            "epoch : 15 loss -0.5500665903091431\n",
            "lossY 0.7182339429855347  HGR  -0.09756019711494446\n",
            "epoch : 16 loss -0.36605340242385864\n",
            "lossY 0.7177962064743042  HGR  -0.0833715945482254\n",
            "epoch : 17 loss -0.8223628401756287\n",
            "lossY 0.7162352800369263  HGR  -0.11835222691297531\n",
            "epoch : 18 loss -1.2033557891845703\n",
            "lossY 0.725010335445404  HGR  -0.14833395183086395\n",
            "epoch : 19 loss -2.153113842010498\n",
            "lossY 0.7124019265174866  HGR  -0.22042275965213776\n",
            "epoch : 20 loss -1.959247350692749\n",
            "lossY 0.706753671169281  HGR  -0.20507560670375824\n",
            "epoch : 21 loss -2.5264949798583984\n",
            "lossY 0.7063558101654053  HGR  -0.24867941439151764\n",
            "epoch : 22 loss -2.733463764190674\n",
            "lossY 0.7113727331161499  HGR  -0.2649857997894287\n",
            "epoch : 23 loss -2.494619369506836\n",
            "lossY 0.7124230861663818  HGR  -0.24669378995895386\n",
            "epoch : 24 loss -2.794496536254883\n",
            "lossY 0.7114075422286987  HGR  -0.26968303322792053\n",
            "epoch : 25 loss -2.5021533966064453\n",
            "lossY 0.7076355218887329  HGR  -0.2469048798084259\n",
            "epoch : 26 loss -2.7533211708068848\n",
            "lossY 0.7157535552978516  HGR  -0.2668495774269104\n",
            "epoch : 27 loss -2.809475898742676\n",
            "lossY 0.7129033803939819  HGR  -0.2709499001502991\n",
            "epoch : 28 loss -3.2415518760681152\n",
            "lossY 0.708356499671936  HGR  -0.303836852312088\n",
            "epoch : 29 loss -2.6143829822540283\n",
            "lossY 0.7021656036376953  HGR  -0.2551170885562897\n",
            "epoch : 30 loss -3.143512725830078\n",
            "lossY 0.7091003656387329  HGR  -0.29635247588157654\n",
            "epoch : 31 loss -3.369680404663086\n",
            "lossY 0.6979991793632507  HGR  -0.3128964602947235\n",
            "epoch : 32 loss -3.168822765350342\n",
            "lossY 0.7037224769592285  HGR  -0.2978858947753906\n",
            "epoch : 33 loss -3.139183521270752\n",
            "lossY 0.7042906880378723  HGR  -0.29564952850341797\n",
            "epoch : 34 loss -3.216423749923706\n",
            "lossY 0.6976746916770935  HGR  -0.3010823428630829\n",
            "epoch : 35 loss -2.8032641410827637\n",
            "lossY 0.7028780579566956  HGR  -0.26970094442367554\n",
            "epoch : 36 loss -2.6016643047332764\n",
            "lossY 0.7056186199188232  HGR  -0.2544039189815521\n",
            "epoch : 37 loss -3.072573184967041\n",
            "lossY 0.7009692788124084  HGR  -0.2902701497077942\n",
            "epoch : 38 loss -3.0796852111816406\n",
            "lossY 0.7053678631782532  HGR  -0.2911553978919983\n",
            "epoch : 39 loss -3.136582612991333\n",
            "lossY 0.6996826529502869  HGR  -0.2950950860977173\n",
            "epoch : 40 loss -2.8709065914154053\n",
            "lossY 0.6989752054214478  HGR  -0.27460405230522156\n",
            "epoch : 41 loss -3.3827667236328125\n",
            "lossY 0.6950992345809937  HGR  -0.313679963350296\n",
            "epoch : 42 loss -3.230452299118042\n",
            "lossY 0.6954185962677002  HGR  -0.3019879162311554\n",
            "epoch : 43 loss -2.7487242221832275\n",
            "lossY 0.6951170563697815  HGR  -0.2649085819721222\n",
            "epoch : 44 loss -2.9441592693328857\n",
            "lossY 0.6950212121009827  HGR  -0.27993470430374146\n",
            "epoch : 45 loss -3.1862564086914062\n",
            "lossY 0.6881693005561829  HGR  -0.2980306148529053\n",
            "epoch : 46 loss -2.7588515281677246\n",
            "lossY 0.6954233050346375  HGR  -0.2657109797000885\n",
            "epoch : 47 loss -2.989624261856079\n",
            "lossY 0.6897939443588257  HGR  -0.2830299437046051\n",
            "epoch : 48 loss -3.4513847827911377\n",
            "lossY 0.6872292757034302  HGR  -0.3183527886867523\n",
            "epoch : 49 loss -3.307896614074707\n",
            "lossY 0.6833820939064026  HGR  -0.30701926350593567\n",
            "epoch : 50 loss -3.4926490783691406\n",
            "lossY 0.6890624761581421  HGR  -0.32166796922683716\n",
            "epoch : 51 loss 7.800583839416504\n",
            "lossY 0.6885391473770142  HGR  0.5470827221870422\n",
            "epoch : 52 loss 8.215800285339355\n",
            "lossY 0.6816855669021606  HGR  0.5795494318008423\n",
            "epoch : 53 loss 8.074283599853516\n",
            "lossY 0.6867170929908752  HGR  0.5682767033576965\n",
            "epoch : 54 loss 8.399726867675781\n",
            "lossY 0.680033266544342  HGR  0.5938249230384827\n",
            "epoch : 55 loss 7.987806797027588\n",
            "lossY 0.6779045462608337  HGR  0.5623025298118591\n",
            "epoch : 56 loss 8.091197967529297\n",
            "lossY 0.6776705384254456  HGR  0.5702738165855408\n",
            "epoch : 57 loss 7.8129119873046875\n",
            "lossY 0.6799340844154358  HGR  0.548693060874939\n",
            "epoch : 58 loss 8.11043930053711\n",
            "lossY 0.676059365272522  HGR  0.5718777775764465\n",
            "epoch : 59 loss 7.864688873291016\n",
            "lossY 0.6783600449562073  HGR  0.5527968406677246\n",
            "epoch : 60 loss 7.9994215965271\n",
            "lossY 0.6712369322776794  HGR  0.5637088418006897\n",
            "epoch : 61 loss 8.029306411743164\n",
            "lossY 0.6699036955833435  HGR  0.566110372543335\n",
            "epoch : 62 loss 8.183719635009766\n",
            "lossY 0.6702854633331299  HGR  0.5779587030410767\n",
            "epoch : 63 loss 8.365621566772461\n",
            "lossY 0.6665021181106567  HGR  0.5922421216964722\n",
            "epoch : 64 loss 7.926600456237793\n",
            "lossY 0.6709983348846436  HGR  0.5581253170967102\n",
            "epoch : 65 loss 8.121657371520996\n",
            "lossY 0.6657841205596924  HGR  0.5735306739807129\n",
            "epoch : 66 loss 8.057775497436523\n",
            "lossY 0.6683330535888672  HGR  0.5684206485748291\n",
            "epoch : 67 loss 7.711678981781006\n",
            "lossY 0.6650480031967163  HGR  0.5420504212379456\n",
            "epoch : 68 loss 8.004602432250977\n",
            "lossY 0.6627164483070374  HGR  0.5647619962692261\n",
            "epoch : 69 loss 8.03540325164795\n",
            "lossY 0.6613361239433289  HGR  0.5672377943992615\n",
            "epoch : 70 loss 7.833114147186279\n",
            "lossY 0.6628991365432739  HGR  0.5515567660331726\n",
            "epoch : 71 loss 7.6501288414001465\n",
            "lossY 0.6639485359191895  HGR  0.5374003052711487\n",
            "epoch : 72 loss 7.644620895385742\n",
            "lossY 0.6645683646202087  HGR  0.5369288921356201\n",
            "epoch : 73 loss 7.697074890136719\n",
            "lossY 0.6629607677459717  HGR  0.5410878658294678\n",
            "epoch : 74 loss 7.775084495544434\n",
            "lossY 0.6526660323143005  HGR  0.5478812456130981\n",
            "epoch : 75 loss 7.516468524932861\n",
            "lossY 0.6576808094978333  HGR  0.527603268623352\n",
            "epoch : 76 loss 7.615602016448975\n",
            "lossY 0.6568095684051514  HGR  0.5352947115898132\n",
            "epoch : 77 loss 7.854904651641846\n",
            "lossY 0.6506064534187317  HGR  0.5541805028915405\n",
            "epoch : 78 loss 7.822711944580078\n",
            "lossY 0.6502037048339844  HGR  0.5517351627349854\n",
            "epoch : 79 loss 7.417198181152344\n",
            "lossY 0.655475378036499  HGR  0.5201359987258911\n",
            "epoch : 80 loss 7.661225318908691\n",
            "lossY 0.6508479714393616  HGR  0.5392631888389587\n",
            "epoch : 81 loss 7.5051069259643555\n",
            "lossY 0.647386908531189  HGR  0.5275202989578247\n",
            "epoch : 82 loss 7.324474811553955\n",
            "lossY 0.6455584168434143  HGR  0.5137660503387451\n",
            "epoch : 83 loss 7.316658973693848\n",
            "lossY 0.6378008127212524  HGR  0.5137615203857422\n",
            "epoch : 84 loss 6.088897705078125\n",
            "lossY 0.6411019563674927  HGR  0.4190642535686493\n",
            "epoch : 85 loss 6.0445966720581055\n",
            "lossY 0.6423682570457458  HGR  0.41555875539779663\n",
            "epoch : 86 loss 5.640944004058838\n",
            "lossY 0.6421701312065125  HGR  0.38452351093292236\n",
            "epoch : 87 loss 4.9647603034973145\n",
            "lossY 0.6488499641418457  HGR  0.33199501037597656\n",
            "epoch : 88 loss 3.5613272190093994\n",
            "lossY 0.6501402258872986  HGR  0.22393901646137238\n",
            "epoch : 89 loss 3.7427799701690674\n",
            "lossY 0.6587012410163879  HGR  0.23723837733268738\n",
            "epoch : 90 loss 2.862598180770874\n",
            "lossY 0.6577475070953369  HGR  0.16960492730140686\n",
            "epoch : 91 loss 4.630634307861328\n",
            "lossY 0.6629083156585693  HGR  0.30521059036254883\n",
            "epoch : 92 loss 3.5889782905578613\n",
            "lossY 0.6545851826667786  HGR  0.22572337090969086\n",
            "epoch : 93 loss 4.273543834686279\n",
            "lossY 0.6645976305007935  HGR  0.2776123285293579\n",
            "epoch : 94 loss 3.8448495864868164\n",
            "lossY 0.6568698883056641  HGR  0.24522998929023743\n",
            "epoch : 95 loss 3.6206674575805664\n",
            "lossY 0.6611844897270203  HGR  0.22765332460403442\n",
            "epoch : 96 loss 3.2693443298339844\n",
            "lossY 0.6609076261520386  HGR  0.20064964890480042\n",
            "epoch : 97 loss 3.770214080810547\n",
            "lossY 0.6600723266601562  HGR  0.23924235999584198\n",
            "epoch : 98 loss 4.252142429351807\n",
            "lossY 0.6624886393547058  HGR  0.27612781524658203\n",
            "epoch : 99 loss 3.1912994384765625\n",
            "lossY 0.6587584614753723  HGR  0.19481155276298523\n",
            "epoch : 100 loss 3.56695818901062\n",
            "lossY 0.6559070348739624  HGR  0.22392773628234863\n",
            "epoch : 101 loss 2.980618476867676\n",
            "lossY 0.6579973101615906  HGR  0.17866380512714386\n",
            "epoch : 102 loss 4.802414894104004\n",
            "lossY 0.6536063551902771  HGR  0.31913992762565613\n",
            "epoch : 103 loss 2.196099281311035\n",
            "lossY 0.6633484959602356  HGR  0.11790470778942108\n",
            "epoch : 104 loss 4.066226005554199\n",
            "lossY 0.6608186364173889  HGR  0.261955201625824\n",
            "epoch : 105 loss 3.8425068855285645\n",
            "lossY 0.6527265310287476  HGR  0.2453683614730835\n",
            "epoch : 106 loss 3.291962146759033\n",
            "lossY 0.6608559489250183  HGR  0.20239362120628357\n",
            "epoch : 107 loss 3.199901580810547\n",
            "lossY 0.6540952920913696  HGR  0.19583187997341156\n",
            "epoch : 108 loss 2.87103009223938\n",
            "lossY 0.655638575553894  HGR  0.17041528224945068\n",
            "epoch : 109 loss 3.033590078353882\n",
            "lossY 0.6605615615844727  HGR  0.18254107236862183\n",
            "epoch : 110 loss 2.8857262134552\n",
            "lossY 0.6513758897781372  HGR  0.1718737781047821\n",
            "epoch : 111 loss 3.696683168411255\n",
            "lossY 0.6489197611808777  HGR  0.23444411158561707\n",
            "epoch : 112 loss 4.430922508239746\n",
            "lossY 0.6559284925460815  HGR  0.29038482904434204\n",
            "epoch : 113 loss 3.653965473175049\n",
            "lossY 0.6547686457633972  HGR  0.23070789873600006\n",
            "epoch : 114 loss 3.0729010105133057\n",
            "lossY 0.6532305479049683  HGR  0.18612909317016602\n",
            "epoch : 115 loss 2.2711429595947266\n",
            "lossY 0.655120849609375  HGR  0.1243099719285965\n",
            "epoch : 116 loss 3.9113664627075195\n",
            "lossY 0.6581067442893982  HGR  0.2502511441707611\n",
            "epoch : 117 loss 2.8361968994140625\n",
            "lossY 0.6560472249984741  HGR  0.1677042543888092\n",
            "epoch : 118 loss 2.6675844192504883\n",
            "lossY 0.6533761024475098  HGR  0.15493938326835632\n",
            "epoch : 119 loss 2.2976856231689453\n",
            "lossY 0.6537513732910156  HGR  0.12645691633224487\n",
            "epoch : 120 loss 1.630821704864502\n",
            "lossY 0.6549109220504761  HGR  0.07507046312093735\n",
            "epoch : 121 loss 3.1989128589630127\n",
            "lossY 0.6461125612258911  HGR  0.19636988639831543\n",
            "epoch : 122 loss 1.8843780755996704\n",
            "lossY 0.6520352363586426  HGR  0.09479614347219467\n",
            "epoch : 123 loss 2.667203903198242\n",
            "lossY 0.6456716656684875  HGR  0.15550294518470764\n",
            "epoch : 124 loss 2.839961528778076\n",
            "lossY 0.6480507254600525  HGR  0.16860917210578918\n",
            "epoch : 125 loss 2.758730888366699\n",
            "lossY 0.6446434855461121  HGR  0.16262313723564148\n",
            "epoch : 126 loss 2.737722635269165\n",
            "lossY 0.6555337309837341  HGR  0.1601686179637909\n",
            "epoch : 127 loss 3.071169137954712\n",
            "lossY 0.6441348791122437  HGR  0.18669508397579193\n",
            "epoch : 128 loss 2.67897891998291\n",
            "lossY 0.6449601650238037  HGR  0.15646344423294067\n",
            "epoch : 129 loss 1.849508285522461\n",
            "lossY 0.6444461345672607  HGR  0.09269747883081436\n",
            "epoch : 130 loss 1.5803396701812744\n",
            "lossY 0.6429746150970459  HGR  0.07210538536310196\n",
            "epoch : 131 loss 1.9101858139038086\n",
            "lossY 0.6496331095695496  HGR  0.09696588665246964\n",
            "epoch : 132 loss 2.5470919609069824\n",
            "lossY 0.6392371654510498  HGR  0.1467583179473877\n",
            "epoch : 133 loss 4.217191696166992\n",
            "lossY 0.644527792930603  HGR  0.274820476770401\n",
            "epoch : 134 loss 2.4770877361297607\n",
            "lossY 0.6494684815406799  HGR  0.14058615267276764\n",
            "epoch : 135 loss 2.3763463497161865\n",
            "lossY 0.6501094102859497  HGR  0.13278771936893463\n",
            "epoch : 136 loss 4.068418502807617\n",
            "lossY 0.6457392573356628  HGR  0.26328331232070923\n",
            "epoch : 137 loss 5.155063152313232\n",
            "lossY 0.6444105505943298  HGR  0.3469735383987427\n",
            "epoch : 138 loss 4.025625228881836\n",
            "lossY 0.6481394171714783  HGR  0.25980710983276367\n",
            "epoch : 139 loss 3.198460102081299\n",
            "lossY 0.6427657604217529  HGR  0.19659218192100525\n",
            "epoch : 140 loss 2.930961847305298\n",
            "lossY 0.6433931589126587  HGR  0.17596682906150818\n",
            "epoch : 141 loss 4.057337284088135\n",
            "lossY 0.6399097442626953  HGR  0.2628791630268097\n",
            "epoch : 142 loss 3.9108223915100098\n",
            "lossY 0.6469721794128418  HGR  0.25106552243232727\n",
            "epoch : 143 loss 2.895914316177368\n",
            "lossY 0.6471554636955261  HGR  0.1729816198348999\n",
            "epoch : 144 loss 3.2260193824768066\n",
            "lossY 0.6496825218200684  HGR  0.1981799155473709\n",
            "epoch : 145 loss 3.4739179611206055\n",
            "lossY 0.651816725730896  HGR  0.21708524227142334\n",
            "epoch : 146 loss 2.343374490737915\n",
            "lossY 0.6414673328399658  HGR  0.13091610372066498\n",
            "epoch : 147 loss 1.9756120443344116\n",
            "lossY 0.6501392722129822  HGR  0.10195959359407425\n",
            "epoch : 148 loss 2.3452041149139404\n",
            "lossY 0.6388885974884033  HGR  0.13125526905059814\n",
            "epoch : 149 loss 3.446279525756836\n",
            "lossY 0.64812171459198  HGR  0.21524302661418915\n",
            "epoch : 150 loss 2.3083882331848145\n",
            "lossY 0.6342456340789795  HGR  0.12878097593784332\n",
            "epoch : 151 loss 3.2094168663024902\n",
            "lossY 0.6355836391448975  HGR  0.19798725843429565\n",
            "epoch : 152 loss 2.400195360183716\n",
            "lossY 0.6527097225189209  HGR  0.13442206382751465\n",
            "epoch : 153 loss 1.0286784172058105\n",
            "lossY 0.6433541178703308  HGR  0.029640503227710724\n",
            "epoch : 154 loss 4.066033840179443\n",
            "lossY 0.6384538412094116  HGR  0.2636602222919464\n",
            "epoch : 155 loss 2.721367835998535\n",
            "lossY 0.6439987421035767  HGR  0.15979760885238647\n",
            "epoch : 156 loss 3.982271671295166\n",
            "lossY 0.6407517194747925  HGR  0.25704044103622437\n",
            "epoch : 157 loss 0.5364102125167847\n",
            "lossY 0.6454607248306274  HGR  -0.00838741660118103\n",
            "epoch : 158 loss 1.4973481893539429\n",
            "lossY 0.642276406288147  HGR  0.06577480584383011\n",
            "epoch : 159 loss 2.625194549560547\n",
            "lossY 0.6434069871902466  HGR  0.15244539082050323\n",
            "epoch : 160 loss 1.8621139526367188\n",
            "lossY 0.6398046612739563  HGR  0.09402377903461456\n",
            "epoch : 161 loss 1.5477041006088257\n",
            "lossY 0.6418610215187073  HGR  0.06968073546886444\n",
            "epoch : 162 loss 0.9927241802215576\n",
            "lossY 0.6453582644462585  HGR  0.026720993220806122\n",
            "epoch : 163 loss 2.20442533493042\n",
            "lossY 0.6419482231140137  HGR  0.12019064277410507\n",
            "epoch : 164 loss 0.7564595937728882\n",
            "lossY 0.645889937877655  HGR  0.008505800738930702\n",
            "epoch : 165 loss 0.6105403900146484\n",
            "lossY 0.6533668041229248  HGR  -0.003293506568297744\n",
            "epoch : 166 loss 2.1084580421447754\n",
            "lossY 0.6516542434692383  HGR  0.11206197738647461\n",
            "epoch : 167 loss 0.9202948808670044\n",
            "lossY 0.647431492805481  HGR  0.020990408957004547\n",
            "epoch : 168 loss 3.028292417526245\n",
            "lossY 0.6419199705123901  HGR  0.18356719613075256\n",
            "epoch : 169 loss 2.6525466442108154\n",
            "lossY 0.6481490135192871  HGR  0.15418507158756256\n",
            "epoch : 170 loss 2.027770757675171\n",
            "lossY 0.6423007845878601  HGR  0.10657478868961334\n",
            "epoch : 171 loss 1.5217304229736328\n",
            "lossY 0.6530543565750122  HGR  0.06682156771421432\n",
            "epoch : 172 loss 0.7664424180984497\n",
            "lossY 0.6442146301269531  HGR  0.009402479976415634\n",
            "epoch : 173 loss 2.263439416885376\n",
            "lossY 0.6487417817115784  HGR  0.12420763820409775\n",
            "epoch : 174 loss 2.512324333190918\n",
            "lossY 0.6408467888832092  HGR  0.1439598798751831\n",
            "epoch : 175 loss 0.9762735366821289\n",
            "lossY 0.6416363716125488  HGR  0.0257414598017931\n",
            "epoch : 176 loss 4.122027397155762\n",
            "lossY 0.6424842476844788  HGR  0.2676571309566498\n",
            "epoch : 177 loss 1.0275079011917114\n",
            "lossY 0.6315844058990479  HGR  0.030455756932497025\n",
            "epoch : 178 loss 3.649087905883789\n",
            "lossY 0.6440872550010681  HGR  0.23115421831607819\n",
            "epoch : 179 loss 2.294867753982544\n",
            "lossY 0.6479609608650208  HGR  0.12668545544147491\n",
            "epoch : 180 loss 1.9885540008544922\n",
            "lossY 0.6334012150764465  HGR  0.10424269735813141\n",
            "epoch : 181 loss 1.3010621070861816\n",
            "lossY 0.6468120217323303  HGR  0.05032699927687645\n",
            "epoch : 182 loss 2.3007543087005615\n",
            "lossY 0.6353245377540588  HGR  0.12810994684696198\n",
            "epoch : 183 loss 2.1095542907714844\n",
            "lossY 0.6407791376113892  HGR  0.11298269033432007\n",
            "epoch : 184 loss 1.8353774547576904\n",
            "lossY 0.6333394646644592  HGR  0.09246502071619034\n",
            "epoch : 185 loss 1.7608996629714966\n",
            "lossY 0.6353656649589539  HGR  0.08657959848642349\n",
            "epoch : 186 loss 1.4450762271881104\n",
            "lossY 0.6425482034683228  HGR  0.06173292174935341\n",
            "epoch : 187 loss 1.0177147388458252\n",
            "lossY 0.6409130096435547  HGR  0.028984827920794487\n",
            "epoch : 188 loss 2.8714945316314697\n",
            "lossY 0.639106810092926  HGR  0.17172212898731232\n",
            "epoch : 189 loss 3.9041030406951904\n",
            "lossY 0.6307855844497681  HGR  0.25179407000541687\n",
            "epoch : 190 loss 2.258591890335083\n",
            "lossY 0.6442652940750122  HGR  0.12417877465486526\n",
            "epoch : 191 loss 0.9847199320793152\n",
            "lossY 0.6389811635017395  HGR  0.026595313102006912\n",
            "epoch : 192 loss 1.3006353378295898\n",
            "lossY 0.6453486680984497  HGR  0.05040671303868294\n",
            "epoch : 193 loss 1.1936731338500977\n",
            "lossY 0.6410077810287476  HGR  0.04251266270875931\n",
            "epoch : 194 loss 3.890580654144287\n",
            "lossY 0.6392922401428223  HGR  0.25009915232658386\n",
            "epoch : 195 loss 0.8195418119430542\n",
            "lossY 0.6361894607543945  HGR  0.014104172587394714\n",
            "epoch : 196 loss 0.6989669799804688\n",
            "lossY 0.6383286714553833  HGR  0.004664536099880934\n",
            "epoch : 197 loss 0.6345660090446472\n",
            "lossY 0.6493518948554993  HGR  -0.0011373187880963087\n",
            "epoch : 198 loss 0.3006831407546997\n",
            "lossY 0.639869213104248  HGR  -0.026091318577528\n",
            "epoch : 199 loss 1.9575614929199219\n",
            "lossY 0.6345049142837524  HGR  0.10177363455295563\n"
          ],
          "name": "stdout"
        }
      ]
    },
    {
      "cell_type": "code",
      "metadata": {
        "id": "X_5KRaLQopHA",
        "colab_type": "code",
        "colab": {}
      },
      "source": [
        "def HGR_NN_PRETRAIN(mF, mG, Z, S):\n",
        "  pred_F  = mF(Z)\n",
        "  pred_G  = mG(S)\n",
        "  pred_F_norm = (pred_F-torch.mean(pred_F))/torch.sqrt((torch.std(pred_F).pow(2)+epsilon))\n",
        "  pred_G_norm = (pred_G-torch.mean(pred_G))/torch.sqrt((torch.std(pred_G).pow(2)+epsilon))\n",
        "  ret = torch.mean(pred_F_norm*pred_G_norm)\n",
        "  return ret.item()"
      ],
      "execution_count": 0,
      "outputs": []
    },
    {
      "cell_type": "markdown",
      "metadata": {
        "id": "hIbgXyydyqtZ",
        "colab_type": "text"
      },
      "source": [
        "# **Results**"
      ]
    },
    {
      "cell_type": "code",
      "metadata": {
        "id": "WLzv4311yjgO",
        "colab_type": "code",
        "outputId": "d1173923-3a79-42d0-b223-6e751ce79bc5",
        "colab": {
          "base_uri": "https://localhost:8080/",
          "height": 52
        }
      },
      "source": [
        "print('Training accuracy : ',((model(m_encodeder(torch.FloatTensor(X_train))).data.numpy()>0.5).T*1==y_train).mean())\n",
        "print('Testing accuracy : ',((model(m_encodeder(torch.FloatTensor(X_test))).data.numpy()>0.5).T*1==y_test).mean())"
      ],
      "execution_count": 38,
      "outputs": [
        {
          "output_type": "stream",
          "text": [
            "Training accuracy :  0.6821066666666666\n",
            "Testing accuracy :  0.68082\n"
          ],
          "name": "stdout"
        }
      ]
    },
    {
      "cell_type": "code",
      "metadata": {
        "id": "7GQszkJIocB_",
        "colab_type": "code",
        "outputId": "de817204-8442-4003-d0fb-d42433efcfbd",
        "colab": {
          "base_uri": "https://localhost:8080/",
          "height": 52
        }
      },
      "source": [
        "print('Training HGR(Z,S) :',HGR_NN_PRETRAIN(mF, mG, m_encodeder(torch.FloatTensor(X_train)), torch.FloatTensor(sensitive).unsqueeze(1)))\n",
        "print('Testing HGR(Z,S) :',HGR_NN_PRETRAIN(mF, mG, m_encodeder(torch.FloatTensor(X_test)), torch.FloatTensor(sensitivet).unsqueeze(1)))"
      ],
      "execution_count": 39,
      "outputs": [
        {
          "output_type": "stream",
          "text": [
            "Training HGR(Z,S) : 0.049676764756441116\n",
            "Testing HGR(Z,S) : 0.05391150712966919\n"
          ],
          "name": "stdout"
        }
      ]
    },
    {
      "cell_type": "code",
      "metadata": {
        "id": "StMSjSwNyuPM",
        "colab_type": "code",
        "outputId": "092019d4-6336-4e81-b376-866ca0d12e59",
        "colab": {
          "base_uri": "https://localhost:8080/",
          "height": 403
        }
      },
      "source": [
        "from sklearn.linear_model import LinearRegression\n",
        "\n",
        "\n",
        "lreg = LinearRegression()\n",
        "lreg.fit(np.sin(s_var.data.numpy()),mG(s_var).data.numpy())\n",
        "sin_transf = lreg.predict(np.sin(s_var.data.numpy()))\n",
        "\n",
        "fig, ax1 = plt.subplots()\n",
        "ax1.set_facecolor('white')\n",
        "ax1.grid(color='gray', linestyle=':', linewidth=1)\n",
        "color = 'tab:blue'\n",
        "ax1.set_xlabel('Sensitive attribute $S$')\n",
        "ax1.set_ylabel('Transformation function $g_{w_{g}}}$(S)')\n",
        "\n",
        "ax1.scatter(s_var.data.numpy(),mG(s_var).data.numpy(), color='tab:blue',s=2, label = 'Neural transformation')\n",
        "ax1.scatter(s_var.data.numpy(), sin_transf, color = 'tab:red', s= 2, label = 'Sin transformation')\n",
        "\n",
        "leg = ax1.legend(loc = 'lower right', markerscale = 4)\n",
        "plt.savefig(\"sin_lam\" + str(lambda_)+'.pdf',bbox_inches='tight')"
      ],
      "execution_count": 40,
      "outputs": [
        {
          "output_type": "display_data",
          "data": {
            "image/png": "[encoded data removed]",
            "text/plain": [
              "<Figure size 432x432 with 1 Axes>"
            ]
          },
          "metadata": {
            "tags": [],
            "needs_background": "light"
          }
        }
      ]
    },
    {
      "cell_type": "code",
      "metadata": {
        "id": "-DhZSE5w1Oqw",
        "colab_type": "code",
        "outputId": "0fc46952-f969-499c-b46c-bdc37b2dad71",
        "colab": {
          "base_uri": "https://localhost:8080/",
          "height": 35
        }
      },
      "source": [
        "import matplotlib\n",
        "print('matplotlib: {}'.format(matplotlib.__version__))\n"
      ],
      "execution_count": 41,
      "outputs": [
        {
          "output_type": "stream",
          "text": [
            "matplotlib: 2.2.3\n"
          ],
          "name": "stdout"
        }
      ]
    },
    {
      "cell_type": "code",
      "metadata": {
        "id": "oNqPRQ_by-RL",
        "colab_type": "code",
        "outputId": "a606a7ae-b6d2-4265-edeb-10c760f64b61",
        "colab": {
          "base_uri": "https://localhost:8080/",
          "height": 826
        }
      },
      "source": [
        "from matplotlib.mlab import griddata\n",
        "from sklearn.decomposition import PCA\n",
        "\n",
        "\n",
        "X_cp = 10*np.random.rand(30000,2) - 5\n",
        "Z = m_encodeder(torch.FloatTensor(X_cp)).data.numpy()\n",
        "y_pred = model(m_encodeder(torch.FloatTensor(X_cp))).data.numpy().reshape((-1,))\n",
        "\n",
        "\n",
        "plt.figure(0)\n",
        "xi = np.linspace(-1, 2, 300)\n",
        "yi = np.linspace(-3, 5, 300)\n",
        "zi = griddata(X_cp[:, 0], X_cp[:, 1], Z[:,0], xi, yi, interp=\"linear\")\n",
        "CS = plt.contourf(xi, yi, zi, 20, cmap=plt.cm.viridis)\n",
        "plt.colorbar() \n",
        "plt.scatter([0], [0], c=\"red\", linewidths=0, label=r\"$\\mathbb{E}(X|Y=0)$\")\n",
        "plt.scatter([1], [-2], c=\"blue\", linewidths=0, label=r\"$\\mathbb{E}(X|Y=1,S=s)$\")\n",
        "plt.scatter([1], [1], c=\"blue\", linewidths=0)\n",
        "plt.scatter([1], [4], c=\"blue\", linewidths=0)\n",
        "plt.text(1.2, -2-0.1, r'$S=-\\frac{\\pi}{2}$', color=\"k\")\n",
        "plt.text(1.2, 1-0.1, \"$S=0$\", color=\"k\")\n",
        "plt.text(1.2, 4-0.1, r'$S=\\frac{\\pi}{2}$', color=\"k\")\n",
        "plt.xlim(-1,2)\n",
        "plt.ylim(-3,5)\n",
        "plt.legend(loc=\"upper left\", scatterpoints=1, handletextpad = -0.5)\n",
        "plt.savefig(\"contourZ_lam\" + str(lambda_)+'.pdf')\n",
        "\n",
        "plt.figure(1)\n",
        "xi = np.linspace(-1, 2, 300)\n",
        "yi = np.linspace(-3, 5, 300)\n",
        "zi = griddata(X_cp[:, 0], X_cp[:, 1], y_pred, xi, yi, interp=\"linear\")\n",
        "CS = plt.contourf(xi, yi, zi, 20, cmap=plt.cm.viridis, vmin = 0, vmax = 1)\n",
        "plt.colorbar() \n",
        "plt.scatter([0], [0], c=\"red\", linewidths=0, label=r\"$\\mathbb{E}(X|Y=0)$\")\n",
        "plt.scatter([1], [-2], c=\"blue\", linewidths=0, label=r\"$\\mathbb{E}(X|Y=1,S=s)$\")\n",
        "plt.scatter([1], [1], c=\"blue\", linewidths=0)\n",
        "plt.scatter([1], [4], c=\"blue\", linewidths=0)\n",
        "plt.text(1.2, -2-0.1, r'$S=-\\frac{\\pi}{2}$', color=\"k\")\n",
        "plt.text(1.2, 1-0.1, \"$S=0$\", color=\"k\")\n",
        "plt.text(1.2, 4-0.1, r'$S=\\frac{\\pi}{2}$', color=\"k\")\n",
        "plt.xlim(-1,2)\n",
        "plt.ylim(-3,5)\n",
        "plt.legend(loc=\"upper left\", scatterpoints=1, handletextpad = -0.5)\n",
        "plt.savefig(\"contourY_lam\" + str(lambda_) + '.pdf')\n",
        "\n",
        "plt.show()\n"
      ],
      "execution_count": 42,
      "outputs": [
        {
          "output_type": "stream",
          "text": [
            "/usr/local/lib/python3.6/dist-packages/ipykernel_launcher.py:13: MatplotlibDeprecationWarning: The griddata function was deprecated in version 2.2. Use scipy.interpolate.griddata instead.\n",
            "  del sys.path[0]\n",
            "/usr/local/lib/python3.6/dist-packages/ipykernel_launcher.py:31: MatplotlibDeprecationWarning: The griddata function was deprecated in version 2.2. Use scipy.interpolate.griddata instead.\n"
          ],
          "name": "stderr"
        },
        {
          "output_type": "display_data",
          "data": {
            "image/png": "[encoded data removed]",
            "text/plain": [
              "<Figure size 432x432 with 2 Axes>"
            ]
          },
          "metadata": {
            "tags": [],
            "needs_background": "light"
          }
        },
        {
          "output_type": "display_data",
          "data": {
            "image/png": "[encoded data removed]",
            "text/plain": [
              "<Figure size 432x432 with 2 Axes>"
            ]
          },
          "metadata": {
            "tags": [],
            "needs_background": "light"
          }
        }
      ]
    },
    {
      "cell_type": "code",
      "metadata": {
        "id": "ISzNvCRsco-u",
        "colab_type": "code",
        "outputId": "8c06d0ea-ad26-45ae-ffc1-3e08788b791c",
        "colab": {
          "base_uri": "https://localhost:8080/",
          "height": 834
        }
      },
      "source": [
        "def make_X(n_samples, s):\n",
        "    X0 = p0.rvs(n_samples // 2, random_state = 42)\n",
        "    X1 = p1.rvs(n_samples // 2, random_state = 42)\n",
        "    X1[:, 1] += 3*np.sin(s)\n",
        "    X = np.vstack([X0, X1])\n",
        "    return X\n",
        "\n",
        "Z_ = m_encodeder(torch.FloatTensor(make_X(200000, s=-np.pi/2))).data.numpy()\n",
        "y_ = model(m_encodeder(torch.FloatTensor(make_X(200000, s=-np.pi/2)))).data.numpy()\n",
        "\n",
        "Z0 = m_encodeder(torch.FloatTensor(make_X(200000, s=0))).data.numpy()\n",
        "y0 = model(m_encodeder(torch.FloatTensor(make_X(200000, s=0)))).data.numpy()\n",
        "\n",
        "Z1 = m_encodeder(torch.FloatTensor(make_X(200000, s=+np.pi/2))).data.numpy()\n",
        "y1 = model(m_encodeder(torch.FloatTensor(make_X(200000, s=+np.pi/2)))).data.numpy()\n",
        "\n",
        "plt.figure(0)\n",
        "plt.hist(Z_[:,0], bins=50, normed=1, histtype=\"step\", label=r\"$p(Z_1|S=-\\frac{\\pi}{2})$\")\n",
        "plt.hist(Z0[:,0], bins=50, normed=1, histtype=\"step\", label=\"$p(Z_1|S=0)$\")\n",
        "plt.hist(Z1[:,0], bins=50, normed=1, histtype=\"step\", label=r\"$p(Z_1|S=+\\frac{\\pi}{2})$\")\n",
        "#plt.ylim(0,1.3)\n",
        "#plt.xlim(-15,3)\n",
        "plt.xlabel(\"$Z_1$\")\n",
        "plt.ylabel(\"$p(Z_1)$\")\n",
        "plt.grid()\n",
        "plt.legend(loc=\"upper left\")\n",
        "plt.savefig(\"distribZ_lam\" + str(lambda_)+'.pdf')\n",
        "\n",
        "\n",
        "plt.figure(1)\n",
        "plt.hist(y_, bins=50, normed=1, histtype=\"step\", label=r\"$p(\\hat{Y}|S=-\\frac{\\pi}{2})$\")\n",
        "plt.hist(y0, bins=50, normed=1, histtype=\"step\", label=\"$p(\\hat{Y}|S=0)$\")\n",
        "plt.hist(y1, bins=50, normed=1, histtype=\"step\", label=r\"$p(\\hat{Y}|S=+\\frac{\\pi}{2})$\")\n",
        "plt.legend(loc=\"upper center\")\n",
        "plt.ylim(0,30)\n",
        "plt.xlabel(\"$\\hat{Y}$\")\n",
        "plt.ylabel(\"$p(\\hat{Y})$\")\n",
        "plt.grid()\n",
        "plt.savefig(\"distribY_lam\" + str(lambda_) + '.pdf')\n",
        "\n",
        "plt.show()"
      ],
      "execution_count": 47,
      "outputs": [
        {
          "output_type": "stream",
          "text": [
            "/usr/local/lib/python3.6/dist-packages/matplotlib/axes/_axes.py:6571: UserWarning: The 'normed' kwarg is deprecated, and has been replaced by the 'density' kwarg.\n",
            "  warnings.warn(\"The 'normed' kwarg is deprecated, and has been \"\n"
          ],
          "name": "stderr"
        },
        {
          "output_type": "display_data",
          "data": {
            "image/png": "[encoded data removed]",
            "text/plain": [
              "<Figure size 432x432 with 1 Axes>"
            ]
          },
          "metadata": {
            "tags": [],
            "needs_background": "light"
          }
        },
        {
          "output_type": "display_data",
          "data": {
            "image/png": "[encoded data removed]",
            "text/plain": [
              "<Figure size 432x432 with 1 Axes>"
            ]
          },
          "metadata": {
            "tags": [],
            "needs_background": "light"
          }
        }
      ]
    },
    {
      "cell_type": "markdown",
      "metadata": {
        "id": "yANygiD1Q4hg",
        "colab_type": "text"
      },
      "source": [
        "# **HGR($\\hat{Y}$,S)**"
      ]
    },
    {
      "cell_type": "code",
      "metadata": {
        "id": "QcL-OHv-SXab",
        "colab_type": "code",
        "colab": {}
      },
      "source": [
        "\n",
        "\n",
        "import torch\n",
        "import torch.nn as nn\n",
        "import torch.nn.functional as F\n",
        "H = 8\n",
        "H2 = 8\n",
        "\n",
        "\n",
        "class Net_HGR_y(nn.Module):\n",
        "    def __init__(self):\n",
        "        super(Net_HGR_y, self).__init__()\n",
        "        self.fc1 = nn.Linear(1, H)\n",
        "        self.fc2 = nn.Linear(H, H)\n",
        "        self.fc3 = nn.Linear(H, H2)\n",
        "        self.fc4 = nn.Linear(H2, 1)\n",
        "        self.bn1 = nn.BatchNorm1d(1)\n",
        "\n",
        "    def forward(self, x):\n",
        "        h1 = torch.tanh(self.fc1(x))\n",
        "        h2 = torch.relu(self.fc2(h1))\n",
        "        h3 = torch.tanh(self.fc3(h2))\n",
        "        h4 = self.fc4(h3)\n",
        "        return h4    \n",
        "\n",
        "\n",
        "class Net2_HGR_y(nn.Module):\n",
        "    def __init__(self):\n",
        "        super(Net2_HGR_y, self).__init__()\n",
        "        self.fc1 = nn.Linear(1, H)\n",
        "        self.fc2 = nn.Linear(H, H)\n",
        "        self.fc3 = nn.Linear(H, H2)\n",
        "        self.fc4 = nn.Linear(H2, 1)\n",
        "        self.bn1 = nn.BatchNorm1d(1)\n",
        "\n",
        "    def forward(self, x):\n",
        "        h1 = torch.tanh(self.fc1(x))\n",
        "        h2 = torch.relu(self.fc2(h1))\n",
        "        h3 = torch.tanh(self.fc3(h2))\n",
        "        h4 = self.fc4(h3)\n",
        "        return h4    \n",
        "\n",
        "\n",
        "class HGR_NN_y(nn.Module):\n",
        "    \n",
        "    def __init__(self,model_F,model_G):\n",
        "        super(HGR_NN_y, self).__init__()\n",
        "        self.mF = model_F\n",
        "        self.mG = model_G\n",
        "        self.optimizer_F = torch.optim.Adam(self.mF.parameters(), lr=0.0005)\n",
        "        self.optimizer_G = torch.optim.Adam(self.mG.parameters(), lr=0.0005)\n",
        "\n",
        "    def forward(self, yhat, y2_var,nb):\n",
        "        yhat0 = yhat.detach()\n",
        "        y2_var0 = y2_var.detach()\n",
        "        for j in range(nb) :\n",
        "            #ret = torch.mean(pred_xy) - torch.log(torch.mean(torch.exp(pred_x_y)))\n",
        "            #ret = torch.mean(pred_xy) - torch.mean(pred_x_y) - 0.25*torch.mean(torch.pow(pred_x_y,2))\n",
        "\n",
        "            #yhat2  =yhat.data.numpy()\n",
        "            #y2_var2=y2_var.data.numpy()\n",
        "        \n",
        "            #yhat2_PT  = torch.from_numpy(yhat2).type(torch.FloatTensor)\n",
        "            #y2_var_PT = torch.from_numpy(y2_var2).type(torch.FloatTensor)\n",
        "\n",
        "            pred_F  = self.mF(yhat0)\n",
        "            pred_G  = self.mG(y2_var0)\n",
        "\n",
        "            epsilon=0.0000000000000000001\n",
        "            #epsilon=0.0001 \n",
        "            pred_F_norm = (pred_F-torch.mean(pred_F))/torch.sqrt((torch.std(pred_F).pow(2)+epsilon))\n",
        "            pred_G_norm = (pred_G-torch.mean(pred_G))/torch.sqrt((torch.std(pred_G).pow(2)+epsilon))\n",
        "            #pred_F_norm[torch.isnan(pred_F_norm )] = 0\n",
        "            #pred_G_norm[torch.isnan(pred_G_norm )] = 0\n",
        "\n",
        "            ret = torch.mean(pred_F_norm*pred_G_norm)\n",
        "            loss = - ret  # maximize\n",
        "            self.mF.zero_grad()\n",
        "            self.mG.zero_grad()\n",
        "            loss.backward()\n",
        "            if (j%500) ==0 : \n",
        "              print('Iteration j :', j, 'HGR :', ret)\n",
        "            self.optimizer_F.step()\n",
        "            self.optimizer_G.step()\n",
        "\n",
        "        return ret.data.numpy()\n"
      ],
      "execution_count": 0,
      "outputs": []
    },
    {
      "cell_type": "code",
      "metadata": {
        "id": "f1SCthxtOWhQ",
        "colab_type": "code",
        "colab": {
          "base_uri": "https://localhost:8080/",
          "height": 105
        },
        "outputId": "4e7e8fb0-b2b7-4712-8c92-99c07be348df"
      },
      "source": [
        "torch.manual_seed(1)\n",
        "model_Net_F = Net_HGR_y()\n",
        "\n",
        "torch.manual_seed(1)\n",
        "model_Net_G = Net2_HGR_y()\n",
        "\n",
        "HGR_NNP = HGR_NN_y(model_Net_F,model_Net_G)\n",
        "\n",
        "hgr_test_y = HGR_NNP(model(m_encodeder(torch.FloatTensor(X_test))),torch.FloatTensor(sensitivet).unsqueeze(1),2000)\n",
        "print('Testing HGR(Y^,S) :', hgr_test_y)"
      ],
      "execution_count": 45,
      "outputs": [
        {
          "output_type": "stream",
          "text": [
            "Iteration j : 0 HGR : tensor(0.0096, grad_fn=<MeanBackward0>)\n",
            "Iteration j : 500 HGR : tensor(0.0372, grad_fn=<MeanBackward0>)\n",
            "Iteration j : 1000 HGR : tensor(0.0387, grad_fn=<MeanBackward0>)\n",
            "Iteration j : 1500 HGR : tensor(0.0389, grad_fn=<MeanBackward0>)\n",
            "Testing HGR(Y^,S) : 0.038921166\n"
          ],
          "name": "stdout"
        }
      ]
    },
    {
      "cell_type": "code",
      "metadata": {
        "id": "9SGoExyZOWtJ",
        "colab_type": "code",
        "colab": {
          "base_uri": "https://localhost:8080/",
          "height": 105
        },
        "outputId": "a2e03201-1536-4743-e669-7365e4466982"
      },
      "source": [
        "torch.manual_seed(1)\n",
        "model_Net_F = Net_HGR_y()\n",
        "\n",
        "torch.manual_seed(1)\n",
        "model_Net_G = Net2_HGR_y()\n",
        "\n",
        "HGR_NNP = HGR_NN_y(model_Net_F,model_Net_G)\n",
        "\n",
        "hgr_train_y = HGR_NNP(model(m_encodeder(torch.FloatTensor(X_train))),torch.FloatTensor(sensitive).unsqueeze(1),2000)\n",
        "print('Training HGR(Y^,S) :', hgr_train_y )"
      ],
      "execution_count": 46,
      "outputs": [
        {
          "output_type": "stream",
          "text": [
            "Iteration j : 0 HGR : tensor(0.0072, grad_fn=<MeanBackward0>)\n",
            "Iteration j : 500 HGR : tensor(0.0331, grad_fn=<MeanBackward0>)\n",
            "Iteration j : 1000 HGR : tensor(0.0337, grad_fn=<MeanBackward0>)\n",
            "Iteration j : 1500 HGR : tensor(0.0347, grad_fn=<MeanBackward0>)\n",
            "Training HGR(Y^,S) : 0.03480281\n"
          ],
          "name": "stdout"
        }
      ]
    },
    {
      "cell_type": "code",
      "metadata": {
        "id": "QZ9MlUs1UKbV",
        "colab_type": "code",
        "colab": {}
      },
      "source": [
        ""
      ],
      "execution_count": 0,
      "outputs": []
    }
  ]
}